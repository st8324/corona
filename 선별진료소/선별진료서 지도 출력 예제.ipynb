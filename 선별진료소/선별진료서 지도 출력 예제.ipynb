{
 "cells": [
  {
   "cell_type": "code",
   "execution_count": 5,
   "metadata": {},
   "outputs": [
    {
     "name": "stdout",
     "output_type": "stream",
     "text": [
      "Requirement already satisfied: folium in c:\\users\\stajun\\anaconda3\\lib\\site-packages (0.11.0)\n",
      "Requirement already satisfied: jinja2>=2.9 in c:\\users\\stajun\\anaconda3\\lib\\site-packages (from folium) (2.11.1)\n",
      "Requirement already satisfied: requests in c:\\users\\stajun\\anaconda3\\lib\\site-packages (from folium) (2.22.0)\n",
      "Requirement already satisfied: branca>=0.3.0 in c:\\users\\stajun\\anaconda3\\lib\\site-packages (from folium) (0.4.1)\n",
      "Requirement already satisfied: numpy in c:\\users\\stajun\\anaconda3\\lib\\site-packages (from folium) (1.18.1)\n",
      "Requirement already satisfied: MarkupSafe>=0.23 in c:\\users\\stajun\\anaconda3\\lib\\site-packages (from jinja2>=2.9->folium) (1.1.1)\n",
      "Requirement already satisfied: urllib3!=1.25.0,!=1.25.1,<1.26,>=1.21.1 in c:\\users\\stajun\\anaconda3\\lib\\site-packages (from requests->folium) (1.25.8)\n",
      "Requirement already satisfied: certifi>=2017.4.17 in c:\\users\\stajun\\anaconda3\\lib\\site-packages (from requests->folium) (2019.11.28)\n",
      "Requirement already satisfied: chardet<3.1.0,>=3.0.2 in c:\\users\\stajun\\anaconda3\\lib\\site-packages (from requests->folium) (3.0.4)\n",
      "Requirement already satisfied: idna<2.9,>=2.5 in c:\\users\\stajun\\anaconda3\\lib\\site-packages (from requests->folium) (2.8)\n",
      "success\n"
     ]
    }
   ],
   "source": [
    "!pip install folium\n",
    "!pip install pandas\n",
    "import folium\n",
    "import requests\n",
    "import pandas as pd # 미리 만들어둔 데이터를 불러옵니다. \n",
    "# csv 파일로 된 선별진료소 목록을 가져옴\n",
    "df = pd.read_csv('선별진료소목록.csv') \n",
    "map_osm = folium.Map(location=[36.488805,127.742287], zoom_start=8)\n",
    "for add in df['주소']:\n",
    "    str = 'http://api.vworld.kr/req/address?service=address&request=getCoord&key=1D3E30A6-F196-3A07-9A3D-7F960B17136A&address='+add+'&type=ROAD&&crs=epsg:4019'\n",
    "    r = requests.get(str)\n",
    "    r_json = r.json()\n",
    "    if(r_json['response']['status'] != 'OK'):\n",
    "        continue\n",
    "    x = r_json['response']['result']['point']['x']\n",
    "    y = r_json['response']['result']['point']['y']\n",
    "    folium.Marker([y,x], popup='중앙병원').add_to(map_osm)\n",
    "map_osm.save('map1.html')\n",
    "print('success')"
   ]
  },
  {
   "cell_type": "code",
   "execution_count": null,
   "metadata": {},
   "outputs": [],
   "source": []
  }
 ],
 "metadata": {
  "kernelspec": {
   "display_name": "Python 3",
   "language": "python",
   "name": "python3"
  },
  "language_info": {
   "codemirror_mode": {
    "name": "ipython",
    "version": 3
   },
   "file_extension": ".py",
   "mimetype": "text/x-python",
   "name": "python",
   "nbconvert_exporter": "python",
   "pygments_lexer": "ipython3",
   "version": "3.7.6"
  }
 },
 "nbformat": 4,
 "nbformat_minor": 4
}
